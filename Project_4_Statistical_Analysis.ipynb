{
 "cells": [
  {
   "cell_type": "markdown",
   "id": "bc180dd5",
   "metadata": {},
   "source": [
    "# Проект: Статистический анализ данных"
   ]
  },
  {
   "cell_type": "markdown",
   "id": "448dced9",
   "metadata": {},
   "source": [
    "# Описание проекта"
   ]
  },
  {
   "cell_type": "markdown",
   "id": "3de04fd9",
   "metadata": {},
   "source": [
    "Вы аналитик популярного сервиса аренды самокатов GoFast. Вам передали данные о некоторых пользователях из нескольких городов, а также об их поездках. Проанализируйте данные и проверьте некоторые гипотезы, которые могут помочь бизнесу вырасти.\n",
    "\n",
    "Чтобы совершать поездки по городу, пользователи сервиса GoFast пользуются мобильным приложением. Сервисом можно пользоваться:\n",
    "\n",
    "- без подписки\n",
    "\n",
    "    - абонентская плата отсутствует;\n",
    "    \n",
    "    - стоимость одной минуты поездки — 8 рублей;\n",
    "    \n",
    "    - стоимость старта (начала поездки) — 50 рублей;\n",
    "    \n",
    "- с подпиской Ultra\n",
    "\n",
    "    - абонентская плата — 199 рублей в месяц;\n",
    "    \n",
    "    - стоимость одной минуты поездки — 6 рублей;\n",
    "    \n",
    "    - стоимость старта — бесплатно."
   ]
  },
  {
   "cell_type": "markdown",
   "id": "e2e0ce73",
   "metadata": {},
   "source": [
    "# Описание данных"
   ]
  },
  {
   "cell_type": "markdown",
   "id": "1160a1f8",
   "metadata": {},
   "source": [
    "В основных данных есть информация о пользователях, их поездках и подписках.\n",
    "\n",
    "**Пользователи — users_go.csv**\n",
    "\n",
    "- user_id - уникальный идентификатор пользователя;\n",
    "\n",
    "- name - имя пользователя;\n",
    "\n",
    "- age - возраст;\n",
    "\n",
    "- city - город;\n",
    "\n",
    "- subscription_type - тип подписки (free, ultra).\n",
    "\n",
    "\n",
    "**Поездки — rides_go.csv**\n",
    "\n",
    "- user_id - уникальный идентификатор пользователя;\n",
    "\n",
    "- distance - расстояние, которое пользователь проехал в текущей сессии (в метрах);\n",
    "\n",
    "- duration - продолжительность сессии (в минутах) — время с того момента, как пользователь нажал кнопку «Начать поездку» до момента, как он нажал кнопку «Завершить поездку»;\n",
    "\n",
    "- date - дата совершения поездки.\n",
    "\n",
    "\n",
    "**Подписки — subscriptions_go.csv**\n",
    "\n",
    "- subscription_type - тип подписки;\n",
    "\n",
    "- minute_price - стоимость одной минуты поездки по данной подписке;\n",
    "\n",
    "- start_ride_price - стоимость начала поездки;\n",
    "\n",
    "- subscription_fee - стоимость ежемесячного платежа.\n"
   ]
  },
  {
   "cell_type": "markdown",
   "id": "156cfb7f",
   "metadata": {},
   "source": [
    "# Оглавление\n",
    "\n",
    "- [Описание проекта](#Описание-проекта)\n",
    "- [Описание данных](#Описание-данных)\n",
    "- [Оглавление](#Оглавление)\n",
    "- [Выполнению проекта](#Выполнению-проекта)\n",
    "    - [Этап 1. Загрузка и изучение данных](#Этап-1.-Загрузка-и-изучение-данных)\n",
    "        - [Подключим библиотеки.](#Подключим-библиотеки.)\n",
    "        - [Загрузим данные из csv-файла в датафрейм c помощью библиотеки pandas.](#Загрузим-данные-из-csv-файла-в-датафрейм-c-помощью-библиотеки-pandas.)\n",
    "        - [Изучим общую информацию о полученном датафрейме.](#Изучим-общую-информацию-о-полученном-датафрейме.)\n",
    "    - [Этап 2. Предобработка данных](#Этап-2.-Предобработка-данных)\n",
    "        - [Приведение столба date к типу даты pandas.](#Приведение-столба-date-к-типу-даты-pandas.)\n",
    "        - [Создадим новый столбец с номером месяца на основе столбца date.](#Создадим-новый-столбец-с-номером-месяца-на-основе-столбца-date.)\n",
    "        - [Проверим наличие пропущенных значений и дубликатов в датафреймах.](#Проверим-наличие-пропущенных-значений-и-дубликатов-в-датафреймах.)\n",
    "        - [Обработаем аномальные значения.](#Обработаем-аномальные-значения.)\n",
    "        - [Вывод: Предобработка данных](#Вывод:-Предобработка-данных)\n",
    "    - [Этап 3. Исследовательский анализ данных](#Этап-3.-Исследовательский-анализ-данных)\n",
    "        - [Частота встречаемости городов у пользователей](#Частота-встречаемости-городов-у-пользователей)\n",
    "        - [Соотношение пользователей с подпиской и без подписки](#Соотношение-пользователей-с-подпиской-и-без-подписки)\n",
    "        - [Соотношение пользователей по возрастам](#Соотношение-пользователей-по-возрастам)\n",
    "        - [Расстояние, которое пользователь преодолел за одну поездку](#Расстояние,-которое-пользователь-преодолел-за-одну-поездку)\n",
    "        - [Продолжительность поездок](#Продолжительность-поездок)\n",
    "    - [Этап 4. Объединение данных](#Этап-4.-Объединение-данных)\n",
    "        - [Объединеним данные о пользователях, поездках и подписках в один датафрейм](#Объединение-данные-о-пользователях,-поездках-и-подписках-в-один-датафрейм)\n",
    "        - [Создадим еще два датафрейма: с данными о пользователях с подпиской/без подписки](#Создадим-еще-два-датафрейма:-с-данными-о-пользователях-с-подпиской/без-подписки)\n",
    "        - [Визуализируем информацию о расстоянии и времени поездок для пользователей обеих категорий](#Визуализируем-информацию-о-расстоянии-и-времени-поездок-для-пользователей-обеих-категорий)\n",
    "        - [Вывод: объединение данных](#Вывод:-объединение-данных)\n",
    "    - [Этап 5. Подсчёт выручки](#Этап-5.-Подсчёт-выручки)\n",
    "        - [Создадим датафрейм с агрегированными данными о поездках на основе датафрейма с объединёнными данными. Найдем суммарное расстояние, количество поездок и суммарное время для каждого пользователя за каждый месяц.](#Создадим-датафрейм-с-агрегированными-данными-о-поездках-на-основе-датафрейма-с-объединёнными-данными.-Найдем-суммарное-расстояние,-количество-поездок-и-суммарное-время-для-каждого-пользователя-за-каждый-месяц.)\n",
    "        - [Вывод: подсчёт выручки](#Вывод:-подсчёт-выручки)\n",
    "    - [Этап 6. Проверка гипотез](#Этап-6.-Проверка-гипотез)\n",
    "        - [Гипотеза №1. Пользователи с подпиской тратят в среднем больше времени на поездки, чем пользователи без подписки.](#Гипотеза-№1.-Пользователи-с-подпиской-тратят-в-среднем-больше-времени-на-поездки,-чем-пользователи-без-подписки.)\n",
    "        - [Гипотеза №2. Пользователи в среднее проезжают расстояние меньше 3130 метров.](#Гипотеза-№2.-Пользователи-в-среднее-проезжают-расстояние-меньше-3130-метров.)\n",
    "        - [Гипотеза №3. Помесячная выручка от пользователей с подпиской по месяцам выше, чем выручка от пользователей без подписки.](#Гипотеза-№3.-Помесячная-выручка-от-пользователей-с-подпиской-по-месяцам-выше,-чем-выручка-от-пользователей-без-подписки.)\n",
    "        - [Гипотеза №4. Количество обращений в техподдержку значимо снизилось после технического обновления на стороне сервера приложения](#Гипотеза-№4.-Количество-обращений-в-техподдержку-значимо-снизилось-после-технического-обновления-на-стороне-сервера-приложения)\n",
    "        - [Вывод: Проверка гипотез](#Вывод:-Проверка-гипотез)\n",
    "    - [Общий Вывод](#Общий-Вывод)"
   ]
  },
  {
   "cell_type": "markdown",
   "id": "0fbae993",
   "metadata": {},
   "source": [
    "# Выполнению проекта"
   ]
  },
  {
   "cell_type": "markdown",
   "id": "f9abfb7e",
   "metadata": {},
   "source": [
    "## Этап 1. Загрузка и изучение данных"
   ]
  },
  {
   "cell_type": "markdown",
   "id": "4207198a",
   "metadata": {},
   "source": [
    "### Подключим библиотеки."
   ]
  },
  {
   "cell_type": "code",
   "execution_count": 1,
   "id": "9f9befa8",
   "metadata": {},
   "outputs": [],
   "source": [
    "# Библиотека для работы с данными\n",
    "import pandas as pd\n",
    "\n",
    "# Библиотека для создания графиков\n",
    "import matplotlib.pyplot as plt\n",
    "\n",
    "# Библиотека для создания статистических графиков\n",
    "import seaborn\n",
    "\n",
    "# Библиотека для научных вычислений\n",
    "import numpy as np\n",
    "\n",
    "# Модуль stats из библиотеки scipy для работы со статистическими методами\n",
    "from scipy import stats"
   ]
  },
  {
   "cell_type": "markdown",
   "id": "6505cfff",
   "metadata": {},
   "source": [
    "### Загрузим данные из csv-файла в датафрейм c помощью библиотеки pandas."
   ]
  },
  {
   "cell_type": "code",
   "execution_count": 2,
   "id": "60f731ca",
   "metadata": {},
   "outputs": [],
   "source": [
    "try:\n",
    "    df_users_go = pd.read_csv('/datasets/users_go.csv', sep = ',')\n",
    "    df_rides_go = pd.read_csv('/datasets/rides_go.csv', sep = ',')\n",
    "    df_subscriptions_go = pd.read_csv('/datasets/subscriptions_go.csv', sep = ',')\n",
    "except:\n",
    "    df_users_go = pd.read_csv('C:/Users/Marat_Yangurov/Jup_Notebook_Practicum/datasets/users_go.csv', sep = ',')\n",
    "    df_rides_go = pd.read_csv('C:/Users/Marat_Yangurov/Jup_Notebook_Practicum/datasets/rides_go.csv', sep = ',')\n",
    "    df_subscriptions_go = pd.read_csv('C:/Users/Marat_Yangurov/Jup_Notebook_Practicum/datasets/subscriptions_go.csv', sep = ',')\n",
    "\n",
    "# Установка опции для отображения всех столбцов\n",
    "pd.options.display.max_columns = None"
   ]
  },
  {
   "cell_type": "markdown",
   "id": "c02d4b8b",
   "metadata": {},
   "source": [
    "Для последующей проверки процента очищенных данных посчитаем количество строк в DataFrame"
   ]
  },
  {
   "cell_type": "code",
   "execution_count": 3,
   "id": "e0de593c",
   "metadata": {},
   "outputs": [],
   "source": [
    "#  Количество строк до обработки\n",
    "initial_row_count_df_users_go = df_users_go.shape[0]\n",
    "print(f'Количество строк до обработки таблицы users_go: {initial_row_count_df_users_go}')\n",
    "\n",
    "initial_row_count_df_rides_go = df_rides_go.shape[0]\n",
    "print(f'Количество строк до обработки таблицы rides_go: {initial_row_count_df_rides_go}')\n",
    "\n",
    "initial_row_count_df_subscriptions_go = df_subscriptions_go.shape[0]\n",
    "print(f'Количество строк до обработки таблицы subscriptions_go: {initial_row_count_df_subscriptions_go}')"
   ]
  },
  {
   "cell_type": "markdown",
   "id": "0fc737d4",
   "metadata": {},
   "source": [
    "### Изучим общую информацию о полученном датафрейме."
   ]
  },
  {
   "cell_type": "markdown",
   "id": "69f2335a",
   "metadata": {},
   "source": [
    "#### Пользователи — users_go.csv"
   ]
  },
  {
   "cell_type": "code",
   "execution_count": 4,
   "id": "89131f82",
   "metadata": {},
   "outputs": [],
   "source": [
    "df_users_go.head(15)"
   ]
  },
  {
   "cell_type": "code",
   "execution_count": 5,
   "id": "bc8de240",
   "metadata": {},
   "outputs": [],
   "source": [
    "df_users_go.info()"
   ]
  },
  {
   "cell_type": "markdown",
   "id": "d9882638",
   "metadata": {},
   "source": [
    "#### Поездки — rides_go.csv"
   ]
  },
  {
   "cell_type": "code",
   "execution_count": 6,
   "id": "6605801a",
   "metadata": {},
   "outputs": [],
   "source": [
    "df_rides_go.head(15)"
   ]
  },
  {
   "cell_type": "code",
   "execution_count": 7,
   "id": "f29b7e46",
   "metadata": {},
   "outputs": [],
   "source": [
    "df_rides_go.info()"
   ]
  },
  {
   "cell_type": "markdown",
   "id": "fc5d1d33",
   "metadata": {},
   "source": [
    "#### Подписки — subscriptions_go.csv"
   ]
  },
  {
   "cell_type": "code",
   "execution_count": 8,
   "id": "8d418ea5",
   "metadata": {},
   "outputs": [],
   "source": [
    "df_subscriptions_go.head(15)"
   ]
  },
  {
   "cell_type": "code",
   "execution_count": 9,
   "id": "3cca6e72",
   "metadata": {},
   "outputs": [],
   "source": [
    "df_subscriptions_go.info()"
   ]
  },
  {
   "cell_type": "markdown",
   "id": "f02b38c1",
   "metadata": {},
   "source": [
    "#### ВЫВОД:\n",
    "\n",
    "**Пропущенные значения**\n",
    "\n",
    "Пропущенные значения в колонках отсутствуют.\n",
    "\n",
    "**Типы данных**\n",
    "\n",
    "В датафрейме rides_go, в колонке date, необходимо заменить тип данных.\n",
    "\n",
    "**Наблюдения** \n",
    "\n",
    "Уникальный идентификатор пользователя user_id является общим столбцом в данных о пользователях и поездках, что позволяет объединить данные для дальнейшего анализа.\n",
    "\n",
    "**Данные готовы к проведению этапа предобработки.**"
   ]
  },
  {
   "cell_type": "markdown",
   "id": "062eadc4",
   "metadata": {},
   "source": [
    "## Этап 2. Предобработка данных"
   ]
  },
  {
   "cell_type": "markdown",
   "id": "a47bf434",
   "metadata": {},
   "source": [
    "### Приведение столба date к типу даты pandas."
   ]
  },
  {
   "cell_type": "code",
   "execution_count": 10,
   "id": "40e0da68",
   "metadata": {},
   "outputs": [],
   "source": [
    "df_rides_go.info()"
   ]
  },
  {
   "cell_type": "markdown",
   "id": "2dce0e1d",
   "metadata": {},
   "source": [
    "Преобразуем тип данных столбца date."
   ]
  },
  {
   "cell_type": "code",
   "execution_count": 11,
   "id": "de0ec36a",
   "metadata": {},
   "outputs": [],
   "source": [
    "df_rides_go['date'] = pd.to_datetime(df_rides_go['date'], format='%Y.%m.%d')\n",
    "df_rides_go.head()"
   ]
  },
  {
   "cell_type": "code",
   "execution_count": 12,
   "id": "a2e953e2",
   "metadata": {},
   "outputs": [],
   "source": [
    "df_rides_go.info()"
   ]
  },
  {
   "cell_type": "markdown",
   "id": "672292aa",
   "metadata": {},
   "source": [
    "### Создадим новый столбец с номером месяца на основе столбца date."
   ]
  },
  {
   "cell_type": "code",
   "execution_count": 13,
   "id": "4b77f86f",
   "metadata": {},
   "outputs": [],
   "source": [
    "df_rides_go['month_date'] = df_rides_go['date'].dt.month\n",
    "df_rides_go.head()"
   ]
  },
  {
   "cell_type": "markdown",
   "id": "16462e88",
   "metadata": {},
   "source": [
    "### Проверим наличие пропущенных значений и дубликатов в датафреймах. "
   ]
  },
  {
   "cell_type": "markdown",
   "id": "0f09a5ad",
   "metadata": {},
   "source": [
    "**Поиск и удаление пропущенных значений**"
   ]
  },
  {
   "cell_type": "markdown",
   "id": "a11911ba",
   "metadata": {},
   "source": [
    "Определим в каких столбцах есть пропуски"
   ]
  },
  {
   "cell_type": "code",
   "execution_count": 14,
   "id": "8effd139",
   "metadata": {},
   "outputs": [],
   "source": [
    "df_users_go.isna().sum()"
   ]
  },
  {
   "cell_type": "code",
   "execution_count": 15,
   "id": "1a2d4dc8",
   "metadata": {},
   "outputs": [],
   "source": [
    "df_rides_go.isna().sum()"
   ]
  },
  {
   "cell_type": "code",
   "execution_count": 16,
   "id": "5d4d13e2",
   "metadata": {},
   "outputs": [],
   "source": [
    "df_subscriptions_go.isna().sum()"
   ]
  },
  {
   "cell_type": "markdown",
   "id": "17c5e4d3",
   "metadata": {},
   "source": [
    "Пропущенные значения в таблицах отсутствуют"
   ]
  },
  {
   "cell_type": "markdown",
   "id": "96380ae2",
   "metadata": {},
   "source": [
    "**Обработка дубликатов**"
   ]
  },
  {
   "cell_type": "markdown",
   "id": "ab0ac784",
   "metadata": {},
   "source": [
    "Проверим наличие явных дубликатов"
   ]
  },
  {
   "cell_type": "code",
   "execution_count": 17,
   "id": "820e328b",
   "metadata": {},
   "outputs": [],
   "source": [
    "print(f'Количество явных дубликатов в df_users_go: {df_users_go.duplicated().sum()}')\n",
    "print(f'Количество явных дубликатов в df_rides_go: {df_rides_go.duplicated().sum()}')\n",
    "print(f'Количество явных дубликатов в df_subscriptions_go: {df_subscriptions_go.duplicated().sum()}')"
   ]
  },
  {
   "cell_type": "markdown",
   "id": "7f69c1c5",
   "metadata": {},
   "source": [
    "Выведем список явных дубликатов в df_users_go."
   ]
  },
  {
   "cell_type": "code",
   "execution_count": 18,
   "id": "ff6432fe",
   "metadata": {},
   "outputs": [],
   "source": [
    "df_users_go.loc[df_users_go.duplicated(keep=False)].sort_values(by='user_id')"
   ]
  },
  {
   "cell_type": "markdown",
   "id": "6282b6ff",
   "metadata": {},
   "source": [
    "Удалим список явных дубликатов в df_users_go."
   ]
  },
  {
   "cell_type": "code",
   "execution_count": 19,
   "id": "a9596b93",
   "metadata": {},
   "outputs": [],
   "source": [
    "df_users_go = df_users_go.drop_duplicates().reset_index(drop=True)"
   ]
  },
  {
   "cell_type": "markdown",
   "id": "2ea192d2",
   "metadata": {},
   "source": [
    "**Вывод:**\n",
    "\n",
    "В таблице users_go  было выявлено 31 явный дубликат, который успешно удалён, оставив только первые встретившиеся строки."
   ]
  },
  {
   "cell_type": "markdown",
   "id": "0d3d91ba",
   "metadata": {},
   "source": [
    "### Обработаем аномальные значения. "
   ]
  },
  {
   "cell_type": "markdown",
   "id": "c415b633",
   "metadata": {},
   "source": [
    "В данных могут встречаться артефакты (аномалии) — значения, которые не отражают действительность и появились по какой-то ошибке. Рассмотрим данные в каждой колонке по отдельности."
   ]
  },
  {
   "cell_type": "markdown",
   "id": "d322debb",
   "metadata": {},
   "source": [
    "#### Рассмотрим данные в датафрейме df_users_go."
   ]
  },
  {
   "cell_type": "code",
   "execution_count": 20,
   "id": "b5b3045c",
   "metadata": {},
   "outputs": [],
   "source": [
    "df_users_go.head(15)"
   ]
  },
  {
   "cell_type": "markdown",
   "id": "afaa569f",
   "metadata": {},
   "source": [
    "**user_id**"
   ]
  },
  {
   "cell_type": "code",
   "execution_count": 21,
   "id": "45d53a26",
   "metadata": {},
   "outputs": [],
   "source": [
    "print(f'Количество аномальных значений user_id в датафрейме \"df_users_go\": {df_users_go[\"user_id\"].count() - df_users_go[\"user_id\"].nunique()}')"
   ]
  },
  {
   "cell_type": "markdown",
   "id": "b6a3f2a7",
   "metadata": {},
   "source": [
    "**name**"
   ]
  },
  {
   "cell_type": "code",
   "execution_count": 22,
   "id": "f67f9da7",
   "metadata": {},
   "outputs": [],
   "source": [
    "print(f'Аномальные значения name в датафрейме \"df_users_go\"')\n",
    "df_users_go['name'].unique()"
   ]
  },
  {
   "cell_type": "markdown",
   "id": "74e950be",
   "metadata": {},
   "source": [
    "Аномальные значения name в датафрейме \"df_users_go\" не выявлены."
   ]
  },
  {
   "cell_type": "markdown",
   "id": "50e11340",
   "metadata": {},
   "source": [
    "**age**"
   ]
  },
  {
   "cell_type": "code",
   "execution_count": 23,
   "id": "d3517e4b",
   "metadata": {},
   "outputs": [],
   "source": [
    "print(f'Аномальные значения age в датафрейме \"df_users_go\"')\n",
    "df_users_go['age'].unique()"
   ]
  },
  {
   "cell_type": "markdown",
   "id": "f4ea2a15",
   "metadata": {},
   "source": [
    "Аномальные значения age в датафрейме \"df_users_go\" не выявлены."
   ]
  },
  {
   "cell_type": "markdown",
   "id": "8964e912",
   "metadata": {},
   "source": [
    "**city**"
   ]
  },
  {
   "cell_type": "code",
   "execution_count": 24,
   "id": "7d969c34",
   "metadata": {},
   "outputs": [],
   "source": [
    "print(f'Аномальные значения city в датафрейме \"df_users_go\"')\n",
    "df_users_go['city'].unique()"
   ]
  },
  {
   "cell_type": "markdown",
   "id": "cf002739",
   "metadata": {},
   "source": [
    "Аномальные значения city в датафрейме \"df_users_go\" не выявлены."
   ]
  },
  {
   "cell_type": "markdown",
   "id": "3e189d82",
   "metadata": {},
   "source": [
    "**subscription_type**"
   ]
  },
  {
   "cell_type": "code",
   "execution_count": 25,
   "id": "e0f2e28c",
   "metadata": {},
   "outputs": [],
   "source": [
    "print(f'Аномальные значения subscription_type в датафрейме \"df_users_go\"')\n",
    "df_users_go['subscription_type'].unique()"
   ]
  },
  {
   "cell_type": "markdown",
   "id": "8c02dc76",
   "metadata": {},
   "source": [
    "Аномальные значения subscription_type в датафрейме \"df_users_go\" не выявлены."
   ]
  },
  {
   "cell_type": "markdown",
   "id": "47de0587",
   "metadata": {},
   "source": [
    "#### Рассмотрим данные в датафрейме df_rides_go."
   ]
  },
  {
   "cell_type": "code",
   "execution_count": 26,
   "id": "d380ff99",
   "metadata": {},
   "outputs": [],
   "source": [
    "df_rides_go.head(15)"
   ]
  },
  {
   "cell_type": "markdown",
   "id": "e6697cdd",
   "metadata": {},
   "source": [
    "**month_date**"
   ]
  },
  {
   "cell_type": "code",
   "execution_count": 27,
   "id": "1b42bd77",
   "metadata": {},
   "outputs": [],
   "source": [
    "print(f'Аномальные значения month_date в датафрейме \"df_rides_go\"')\n",
    "sorted(df_rides_go['month_date'].unique())"
   ]
  },
  {
   "cell_type": "markdown",
   "id": "6357251f",
   "metadata": {},
   "source": [
    "Аномальные значения month_date  в датафрейме \"df_rides_go\" не выявлены."
   ]
  },
  {
   "cell_type": "markdown",
   "id": "d9126947",
   "metadata": {},
   "source": [
    "**date**"
   ]
  },
  {
   "cell_type": "markdown",
   "id": "0fa46aa3",
   "metadata": {},
   "source": [
    "Проверим Аномальные значения года, в колонке date, в датафрейме \"df_rides_go\""
   ]
  },
  {
   "cell_type": "code",
   "execution_count": 28,
   "id": "e1ba6db6",
   "metadata": {},
   "outputs": [],
   "source": [
    "print(df_rides_go['date'].dt.year.unique())"
   ]
  },
  {
   "cell_type": "markdown",
   "id": "9fbf1c70",
   "metadata": {},
   "source": [
    "Проверим Аномальные значения дней, в колонке date, в датафрейме \"df_rides_go\""
   ]
  },
  {
   "cell_type": "code",
   "execution_count": 29,
   "id": "5404fe07",
   "metadata": {},
   "outputs": [],
   "source": [
    "print(sorted(df_rides_go['date'].dt.day.unique()))\n"
   ]
  },
  {
   "cell_type": "markdown",
   "id": "4f7aa593",
   "metadata": {},
   "source": [
    "Аномальные значения date в датафрейме \"df_rides_go\" не выявлены."
   ]
  },
  {
   "cell_type": "markdown",
   "id": "61eb3382",
   "metadata": {},
   "source": [
    "**distance**"
   ]
  },
  {
   "cell_type": "code",
   "execution_count": 30,
   "id": "3aeac32c",
   "metadata": {},
   "outputs": [],
   "source": [
    "distance_old_count = (df_rides_go['distance'].count())\n",
    "df_rides_go['distance'].hist(bins=100, range=(0, 7500));\n",
    "distance_old_count\n"
   ]
  },
  {
   "cell_type": "markdown",
   "id": "175a72d2",
   "metadata": {},
   "source": [
    "Из графика мы видим что аномальных значений, всплесков не выявлено. Так же мы видим, что на графике присутствуют два пика:\n",
    "\n",
    "1. От 0.1 км. до 1.5 км.\n",
    "\n",
    "2. От 2 км. до 5 км."
   ]
  },
  {
   "cell_type": "markdown",
   "id": "615aa1e3",
   "metadata": {},
   "source": [
    "На данном графике имеет смысл удаление расстояние более 6.5 км."
   ]
  },
  {
   "cell_type": "code",
   "execution_count": 31,
   "id": "6f1e9f72",
   "metadata": {},
   "outputs": [],
   "source": [
    "len(df_rides_go.query('distance > 6000'))"
   ]
  },
  {
   "cell_type": "code",
   "execution_count": 32,
   "id": "0911bd92",
   "metadata": {},
   "outputs": [],
   "source": [
    "df_rides_go = df_rides_go.loc[df_rides_go['distance'] <= 6000]"
   ]
  },
  {
   "cell_type": "code",
   "execution_count": 33,
   "id": "22e1d99c",
   "metadata": {},
   "outputs": [],
   "source": [
    "distance_new_count = (df_rides_go['distance'].count())\n",
    "distance_new_count "
   ]
  },
  {
   "cell_type": "code",
   "execution_count": 34,
   "id": "1badc51a",
   "metadata": {},
   "outputs": [],
   "source": [
    "dropped_distance_count = ((distance_old_count - distance_new_count) / distance_old_count) * 100\n",
    "print(f'Процент отброшенных данных: {dropped_distance_count:.2f}% ')"
   ]
  },
  {
   "cell_type": "code",
   "execution_count": 35,
   "id": "d1d4b713",
   "metadata": {},
   "outputs": [],
   "source": [
    "\n",
    "df_rides_go['distance'].hist(bins=100, range=(0, 6000));"
   ]
  },
  {
   "cell_type": "markdown",
   "id": "29e1d042",
   "metadata": {},
   "source": [
    "**duration**"
   ]
  },
  {
   "cell_type": "code",
   "execution_count": 36,
   "id": "123971dc",
   "metadata": {},
   "outputs": [],
   "source": [
    "duration_old_count = (df_rides_go['duration'].count())\n",
    "df_rides_go['duration'].hist(bins=50, range=(0, 50));\n",
    "duration_old_count"
   ]
  },
  {
   "cell_type": "markdown",
   "id": "78d92650",
   "metadata": {},
   "source": [
    "Имеет смысл удалить из датафрейма значения с нулевыми или близкими к нулю данными. На данном графике имеет смысл удаление сессий более 35 мин."
   ]
  },
  {
   "cell_type": "code",
   "execution_count": 37,
   "id": "a0f9c2db",
   "metadata": {},
   "outputs": [],
   "source": [
    "len(df_rides_go.query('duration <= 1'))"
   ]
  },
  {
   "cell_type": "code",
   "execution_count": 38,
   "id": "b536bd2e",
   "metadata": {},
   "outputs": [],
   "source": [
    "len(df_rides_go.query('duration > 35'))"
   ]
  },
  {
   "cell_type": "code",
   "execution_count": 39,
   "id": "8ff043f3",
   "metadata": {},
   "outputs": [],
   "source": [
    "df_rides_go = df_rides_go.loc[df_rides_go['duration'] >= 1]\n",
    "df_rides_go = df_rides_go.loc[df_rides_go['duration'] <= 35]"
   ]
  },
  {
   "cell_type": "code",
   "execution_count": 40,
   "id": "8c66d82c",
   "metadata": {},
   "outputs": [],
   "source": [
    "duration_new_count = (df_rides_go['duration'].count())\n",
    "duration_new_count "
   ]
  },
  {
   "cell_type": "code",
   "execution_count": 41,
   "id": "edc496bb",
   "metadata": {},
   "outputs": [],
   "source": [
    "dropped_duration_count = ((duration_old_count - duration_new_count) / duration_old_count) * 100\n",
    "print(f'Процент отброшенных данных: {dropped_distance_count:.2f}% ')"
   ]
  },
  {
   "cell_type": "code",
   "execution_count": 42,
   "id": "9f1ba0ae",
   "metadata": {},
   "outputs": [],
   "source": [
    "df_rides_go['duration'].hist(bins=50, range=(0, 40));"
   ]
  },
  {
   "cell_type": "code",
   "execution_count": 43,
   "id": "a0232516",
   "metadata": {},
   "outputs": [],
   "source": [
    "df_subscriptions_go.head(15)"
   ]
  },
  {
   "cell_type": "markdown",
   "id": "666915b3",
   "metadata": {},
   "source": [
    "#### Рассмотрим данные в датафрейме df_subscriptions_go."
   ]
  },
  {
   "cell_type": "markdown",
   "id": "af5c5637",
   "metadata": {},
   "source": [
    "В данном датафрейме отсутствуют аномальные значения"
   ]
  },
  {
   "cell_type": "markdown",
   "id": "3c3392bf",
   "metadata": {},
   "source": [
    "#### Вывод:"
   ]
  },
  {
   "cell_type": "markdown",
   "id": "c851de0d",
   "metadata": {},
   "source": [
    "В датафрейме df_users_go, df_subscriptions_go аномальных значений выявлено не было.\n",
    "\n",
    "В датафрейме df_rides_go было отброшено некоторое количество мусорных данных в колонках distance и duration"
   ]
  },
  {
   "cell_type": "markdown",
   "id": "d3e43e93",
   "metadata": {},
   "source": [
    "### Вывод: Предобработка данных"
   ]
  },
  {
   "cell_type": "markdown",
   "id": "2799262f",
   "metadata": {},
   "source": [
    "Для проверки того, что при предобработке данных отброшен допустимый процент данных, сравним количество строк в DataFrame до обработки (initial_row_count) и после обработки (final_row_count), вычислив долю удалённых данных."
   ]
  },
  {
   "cell_type": "code",
   "execution_count": 44,
   "id": "3ba6b1a9",
   "metadata": {},
   "outputs": [],
   "source": [
    "#  Количество строк после обработки\n",
    "final_row_count_df_users_go = df_users_go.shape[0]\n",
    "print(f'Количество строк после обработки таблицы users_go: {final_row_count_df_users_go}')\n",
    "\n",
    "final_row_count_df_rides_go = df_rides_go.shape[0]\n",
    "print(f'Количество строк после обработки таблицы rides_go: {final_row_count_df_rides_go}')\n",
    "\n",
    "final_row_count_df_subscriptions_go = df_subscriptions_go.shape[0]\n",
    "print(f'Количество строк после обработки таблицы subscriptions_go: {final_row_count_df_subscriptions_go}')"
   ]
  },
  {
   "cell_type": "markdown",
   "id": "49c3a9c6",
   "metadata": {},
   "source": [
    "Вычисляем процент отброшенных данных"
   ]
  },
  {
   "cell_type": "code",
   "execution_count": 45,
   "id": "a7c65add",
   "metadata": {},
   "outputs": [],
   "source": [
    "# Процент отброшенных данных\n",
    "dropped_percentage_df_users_go = ((initial_row_count_df_users_go - final_row_count_df_users_go) / initial_row_count_df_users_go) * 100\n",
    "print(f\"Процент отброшенных данных df_users_go: {dropped_percentage_df_users_go:.2f}%\")\n",
    "\n",
    "dropped_percentage_df_rides_go = ((initial_row_count_df_rides_go - final_row_count_df_rides_go) / initial_row_count_df_rides_go) * 100\n",
    "print(f\"Процент отброшенных данных df_rides_go: {dropped_percentage_df_rides_go:.2f}%\")\n",
    "\n",
    "dropped_percentage_df_subscriptions_go = ((initial_row_count_df_subscriptions_go - final_row_count_df_subscriptions_go) / initial_row_count_df_subscriptions_go) * 100\n",
    "print(f\"Процент отброшенных данных df_subscriptions_go: {dropped_percentage_df_subscriptions_go:.2f}%\")"
   ]
  },
  {
   "cell_type": "code",
   "execution_count": 46,
   "id": "43ab0f46",
   "metadata": {},
   "outputs": [],
   "source": [
    "if dropped_percentage_df_users_go > 5:\n",
    "    print(\"Предупреждение: В датафрейме df_users_go, было отброшено больше 10% данных!\")\n",
    "else:\n",
    "    print(\"Потери данных в датафрейме df_users_go, находятся в пределах допустимого уровня.\")\n",
    "    \n",
    "if dropped_percentage_df_rides_go > 5:\n",
    "    print(\"Предупреждение: В датафрейме df_rides_go, было отброшено больше 10% данных!\")\n",
    "else:\n",
    "    print(\"Потери данных в датафрейме df_rides_go, находятся в пределах допустимого уровня.\")\n",
    "\n",
    "if dropped_percentage_df_subscriptions_go > 5:\n",
    "    print(\"Предупреждение: В датафрейме df_subscriptions_go, было отброшено больше 10% данных!\")\n",
    "else:\n",
    "    print(\"Потери данных в датафрейме df_subscriptions_go, находятся в пределах допустимого уровня.\")"
   ]
  },
  {
   "cell_type": "markdown",
   "id": "afa96efe",
   "metadata": {},
   "source": [
    "Мы выполнили предобработку данных. Выявили в датафрейме пропущенные значения и заполнили их там где это представляется возможным, не исказив данные. Исправили типы данных на подходящие. Обработали аномальные значения. Обработали дубликаты. Итого было отброшено не более 5% мусорных данных.\n",
    "\n",
    "Нам удалось сохранить большую часть датафрейма, графики стали заметно лучше."
   ]
  },
  {
   "cell_type": "markdown",
   "id": "ee8c8600",
   "metadata": {},
   "source": [
    "## Этап 3. Исследовательский анализ данных"
   ]
  },
  {
   "cell_type": "markdown",
   "id": "fe0fc7b2",
   "metadata": {},
   "source": [
    "### Частота встречаемости городов у пользователей"
   ]
  },
  {
   "cell_type": "markdown",
   "id": "a034ac03",
   "metadata": {},
   "source": [
    "Опишем и визуализируем информацию о встречаемости городов у пользователей."
   ]
  },
  {
   "cell_type": "code",
   "execution_count": 47,
   "id": "683695c3",
   "metadata": {},
   "outputs": [],
   "source": [
    "city_frequency = df_users_go['city'].value_counts()\n",
    "print(city_frequency)\n",
    "df_users_go['city'].value_counts().plot(kind = 'bar')\n",
    "plt.xlabel('Город')\n",
    "plt.ylabel('Количество пользователей')\n",
    "plt.title('Распределение пользователей по городам')\n",
    "plt.show()"
   ]
  },
  {
   "cell_type": "markdown",
   "id": "5bd8dd5c",
   "metadata": {},
   "source": [
    "Больше всего клиентов зарегестрированно в городе Пятигорск, а меньше всего в Москве."
   ]
  },
  {
   "cell_type": "markdown",
   "id": "efca2749",
   "metadata": {},
   "source": [
    "### Соотношение пользователей с подпиской и без подписки"
   ]
  },
  {
   "cell_type": "markdown",
   "id": "25e522cc",
   "metadata": {},
   "source": [
    "Опишем и визуализируем информацию о соотношении пользователей с подпиской и без подписки."
   ]
  },
  {
   "cell_type": "code",
   "execution_count": 48,
   "id": "447cf943",
   "metadata": {},
   "outputs": [],
   "source": [
    "#subscription_frequency = df_users_go['subscription_type'].value_counts()\n",
    "subscription_frequency = df_users_go.pivot_table(index='subscription_type', values='user_id', aggfunc='count')\n",
    "\n",
    "total_subscriptions = subscription_frequency['user_id'].sum()\n",
    "subscription_frequency['percentage'] = round((subscription_frequency['user_id'] / total_subscriptions) * 100, 2)\n",
    "\n",
    "print(subscription_frequency)\n",
    "\n",
    "subscription_frequency['percentage'].plot(kind='pie')\n",
    "plt.xlabel('Тип подписки')\n",
    "plt.ylabel('Количество пользователей')\n",
    "plt.title('Распределение пользователей по типам подписки')\n",
    "plt.show()"
   ]
  },
  {
   "cell_type": "markdown",
   "id": "8f849e7a",
   "metadata": {},
   "source": [
    "Соотношении пользователей с подпиской и без подписки близкое. Пользователей без подписки (free) - 54.43%. Пользователей с подпиской (ultra) - 45.57%"
   ]
  },
  {
   "cell_type": "markdown",
   "id": "ee3a559a",
   "metadata": {},
   "source": [
    "### Соотношение пользователей по возрастам"
   ]
  },
  {
   "cell_type": "markdown",
   "id": "ad813691",
   "metadata": {},
   "source": [
    "Опишем и визуализируем информацию о соотношении пользователей по возрастам."
   ]
  },
  {
   "cell_type": "code",
   "execution_count": 49,
   "id": "89a0edfc",
   "metadata": {},
   "outputs": [],
   "source": [
    "# Выводим статистические показатели\n",
    "print(df_users_go['age'].describe())"
   ]
  },
  {
   "cell_type": "markdown",
   "id": "e9facda7",
   "metadata": {},
   "source": [
    "Категоризируем данные по группам возрастов."
   ]
  },
  {
   "cell_type": "code",
   "execution_count": 50,
   "id": "00de4ffa",
   "metadata": {},
   "outputs": [],
   "source": [
    "def age_category_func(row):\n",
    "    age_type = row['age']\n",
    "    if age_type <= 17:\n",
    "        return 'школьный возраст'\n",
    "    elif 18 <= age_type <= 35:\n",
    "        return 'молодость'\n",
    "    elif 36 <= age_type <= 60:\n",
    "        return 'зрелость'\n",
    "    else:\n",
    "        return 'старость'\n",
    "df_users_go['age_category'] = df_users_go.apply(age_category_func, axis=1)\n",
    "df_users_go.head(20)"
   ]
  },
  {
   "cell_type": "code",
   "execution_count": 51,
   "id": "ce3cdc10",
   "metadata": {},
   "outputs": [],
   "source": [
    "age_frequency = df_users_go.pivot_table(index='age_category', values='user_id', aggfunc='count')\n",
    "\n",
    "total_age_frequency = age_frequency['user_id'].sum()\n",
    "age_frequency['percentage'] = round((age_frequency['user_id'] / total_age_frequency) * 100, 2)\n",
    "\n",
    "print(age_frequency)\n",
    "\n",
    "age_frequency['percentage'].plot(kind='bar')\n",
    "plt.xlabel('Возрастная категория')\n",
    "plt.ylabel('Количество пользователей')\n",
    "plt.title('Распределение пользователей по возрастным категориям')\n",
    "plt.show()"
   ]
  },
  {
   "cell_type": "markdown",
   "id": "a562c431",
   "metadata": {},
   "source": [
    "Согласно полученных данных видим, что основная категория клиенотов это группа людей в возрасте от 18 до 35 лет включительно (Молодость), составляет 94%.\n",
    "Группа людей в возрасте до 17 лет включительно (школьники), составляет 5.15%.\n",
    "Группа людей в возрасте от 36 до 60 лет включительно (зрелые), составляет всего-лишь 0.85%.\n"
   ]
  },
  {
   "cell_type": "markdown",
   "id": "7bec5264",
   "metadata": {},
   "source": [
    "###  Расстояние, которое пользователь преодолел за одну поездку"
   ]
  },
  {
   "cell_type": "markdown",
   "id": "1fa5e4a9",
   "metadata": {},
   "source": [
    "Опишем и визуализируем информацию расстояния, которое пользователь преодолел за одну поездку."
   ]
  },
  {
   "cell_type": "code",
   "execution_count": 52,
   "id": "88418e5c",
   "metadata": {},
   "outputs": [],
   "source": [
    "# Создаем сводную таблицу суммарных расстояний по каждому пользователю\n",
    "tripDistance = df_rides_go.pivot_table(index='user_id', values='distance', aggfunc='sum')\n",
    "\n",
    "# Описываем статистическое расстояние\n",
    "statistics_Distance = tripDistance.describe()\n",
    "\n",
    "# Выводим статистические показатели\n",
    "print(statistics_Distance)\n",
    "\n",
    "# Создаем гистограмму\n",
    "plt.figure(figsize=(10, 6))\n",
    "plt.hist(tripDistance['distance'], bins=30)\n",
    "plt.title('Распределение расстояний за одну поездку')\n",
    "plt.xlabel('Расстояние')\n",
    "plt.ylabel('Частота')\n",
    "\n",
    "# Отображаем гистограмму\n",
    "plt.show()"
   ]
  },
  {
   "cell_type": "markdown",
   "id": "bc32b1cb",
   "metadata": {},
   "source": [
    "Пользователи в среднем преодолевают расстояние около 35623 метров, с разбросом данных от 5530 до 79325 метров."
   ]
  },
  {
   "cell_type": "markdown",
   "id": "71a8b55a",
   "metadata": {},
   "source": [
    "###  Продолжительность поездок"
   ]
  },
  {
   "cell_type": "markdown",
   "id": "d206bddb",
   "metadata": {},
   "source": [
    "Опишем и визуализируем информацию продолжительностя поездки."
   ]
  },
  {
   "cell_type": "code",
   "execution_count": 53,
   "id": "ef66b7b5",
   "metadata": {},
   "outputs": [],
   "source": [
    "# Создаем сводную таблицу продолжительности поездок по каждому пользователю\n",
    "tripDuratione = df_rides_go.pivot_table(index='user_id', values='duration', aggfunc='sum')\n",
    "\n",
    "# Описываем статистическое расстояние\n",
    "statistics_Duratione = tripDuratione.describe()\n",
    "\n",
    "# Выводим статистические показатели\n",
    "print(statistics_Duratione)\n",
    "\n",
    "# Создаем гистограмму\n",
    "plt.figure(figsize=(10, 6))\n",
    "plt.hist(tripDuratione['duration'], bins=30)\n",
    "plt.title('Распределение времени за одну поездку')\n",
    "plt.xlabel('Продолжительность сессии')\n",
    "plt.ylabel('Частота')\n",
    "\n",
    "# Отображаем гистограмму\n",
    "plt.show()"
   ]
  },
  {
   "cell_type": "markdown",
   "id": "e12a42f0",
   "metadata": {},
   "source": [
    "Пользователи в среднем трятят около 208 мин. за одну поездку, с разбросом данных от 34 до 446 мин."
   ]
  },
  {
   "cell_type": "markdown",
   "id": "df8c9a22",
   "metadata": {},
   "source": [
    "## Этап 4. Объединение данных"
   ]
  },
  {
   "cell_type": "markdown",
   "id": "867e469f",
   "metadata": {},
   "source": [
    "###  Объединеним данные о пользователях, поездках и подписках в один датафрейм"
   ]
  },
  {
   "cell_type": "code",
   "execution_count": 54,
   "id": "608a6a5f",
   "metadata": {},
   "outputs": [],
   "source": [
    "# Объединение данных пользователей и подписок по столбцу user_id\n",
    "df_users_rides = df_users_go.merge(df_rides_go, on='user_id', how='left')\n",
    "\n",
    "# Объединение полученной таблицы с данными о поездках по столбцу subscription_type\n",
    "df_combined = df_users_rides.merge(df_subscriptions_go, on='subscription_type', how='left')\n",
    "\n",
    "# Просмотр объединённого датафрейма\n",
    "df_combined.head()\n"
   ]
  },
  {
   "cell_type": "markdown",
   "id": "c7465a49",
   "metadata": {},
   "source": [
    "###  Создадим еще два датафрейма: с данными о пользователях с подпиской/без подписки"
   ]
  },
  {
   "cell_type": "markdown",
   "id": "6f144e6b",
   "metadata": {},
   "source": [
    "Создадим датафрейм с данными о пользователях без подписки."
   ]
  },
  {
   "cell_type": "code",
   "execution_count": 55,
   "id": "56597104",
   "metadata": {},
   "outputs": [],
   "source": [
    "df_combined_without_subscriptions = df_combined.loc[df_combined['subscription_type']=='free']\n",
    "df_combined_without_subscriptions"
   ]
  },
  {
   "cell_type": "markdown",
   "id": "ee60fdc0",
   "metadata": {},
   "source": [
    "Создадим датафрейм с данными о пользователях с подпиской."
   ]
  },
  {
   "cell_type": "code",
   "execution_count": 56,
   "id": "2253eb11",
   "metadata": {},
   "outputs": [],
   "source": [
    "df_combined_with_subscriptions = df_combined.loc[df_combined['subscription_type']=='ultra']\n",
    "df_combined_with_subscriptions"
   ]
  },
  {
   "cell_type": "markdown",
   "id": "a9404145",
   "metadata": {},
   "source": [
    "### Визуализируем информацию о расстоянии и времени поездок для пользователей обеих категорий"
   ]
  },
  {
   "cell_type": "markdown",
   "id": "4e7fc7f1",
   "metadata": {},
   "source": [
    "Визуализируем информацию расстояния, которое пользователь преодолел в датафрейме с данными о пользователях без подписки."
   ]
  },
  {
   "cell_type": "code",
   "execution_count": 57,
   "id": "2bc81a73",
   "metadata": {},
   "outputs": [],
   "source": [
    "# Описываем статистическое расстояние\n",
    "statistics_Distance_without_subscriptions = df_combined_without_subscriptions['distance'].describe()\n",
    "\n",
    "# Выводим статистические показатели\n",
    "print(statistics_Distance_without_subscriptions)\n",
    "\n",
    "# Создаем гистограмму\n",
    "plt.figure(figsize=(10, 6))\n",
    "plt.hist(df_combined_without_subscriptions['distance'], bins=50)\n",
    "plt.title('Распределение расстояний за одну поездку пользователями без подписки')\n",
    "plt.xlabel('Расстояние')\n",
    "plt.ylabel('Частота')\n",
    "\n",
    "# Отображаем гистограмму\n",
    "plt.show()"
   ]
  },
  {
   "cell_type": "markdown",
   "id": "968955a1",
   "metadata": {},
   "source": [
    "Визуализируем информацию о времени, которое пользователь потратил в датафрейме с данными о пользователях без подписки."
   ]
  },
  {
   "cell_type": "code",
   "execution_count": 58,
   "id": "6a14cfcf",
   "metadata": {
    "scrolled": false
   },
   "outputs": [],
   "source": [
    "# Описываем статистическое расстояние\n",
    "statistics_Duration_without_subscriptions = df_combined_without_subscriptions['duration'].describe()\n",
    "\n",
    "# Выводим статистические показатели\n",
    "print(statistics_Duration_without_subscriptions)\n",
    "\n",
    "# Создаем гистограмму\n",
    "plt.figure(figsize=(10, 6))\n",
    "plt.hist(df_combined_without_subscriptions['duration'], bins=50)\n",
    "plt.title('Распределение времени за одну поездку пользователями без подписки')\n",
    "plt.xlabel('Продолжительность сессии')\n",
    "plt.ylabel('Частота')\n",
    "\n",
    "# Отображаем гистограмму\n",
    "plt.show()"
   ]
  },
  {
   "cell_type": "markdown",
   "id": "9e4b9ef1",
   "metadata": {},
   "source": [
    "Визуализируем информацию расстояния, которое пользователь преодолел в датафрейме с данными о пользователях с подпиской."
   ]
  },
  {
   "cell_type": "code",
   "execution_count": 59,
   "id": "df946d30",
   "metadata": {},
   "outputs": [],
   "source": [
    "# Описываем статистическое расстояние\n",
    "statistics_Distance_with_subscriptions = df_combined_with_subscriptions['distance'].describe()\n",
    "\n",
    "# Выводим статистические показатели\n",
    "print(statistics_Distance_with_subscriptions)\n",
    "\n",
    "# Создаем гистограмму\n",
    "plt.figure(figsize=(10, 6))\n",
    "plt.hist(df_combined_with_subscriptions['distance'], bins=50)\n",
    "plt.title('Распределение расстояний за одну поездку пользователями с подпиской')\n",
    "plt.xlabel('Расстояние')\n",
    "plt.ylabel('Частота')\n",
    "\n",
    "# Отображаем гистограмму\n",
    "plt.show()"
   ]
  },
  {
   "cell_type": "markdown",
   "id": "f12ec112",
   "metadata": {},
   "source": [
    "Визуализируем информацию о времени, которое пользователь потратил в датафрейме с данными о пользователях с подпиской."
   ]
  },
  {
   "cell_type": "code",
   "execution_count": 60,
   "id": "ad529750",
   "metadata": {},
   "outputs": [],
   "source": [
    "# Описываем статистическое расстояние\n",
    "statistics_Duration_with_subscriptions = df_combined_with_subscriptions['duration'].describe()\n",
    "\n",
    "# Выводим статистические показатели\n",
    "print(statistics_Duration_with_subscriptions)\n",
    "\n",
    "# Создаем гистограмму\n",
    "plt.figure(figsize=(10, 6))\n",
    "plt.hist(df_combined_with_subscriptions['duration'], bins=50)\n",
    "plt.title('Распределение времени за одну поездку пользователями с подпиской')\n",
    "plt.xlabel('Продолжительность сессии')\n",
    "plt.ylabel('Частота')\n",
    "\n",
    "# Отображаем гистограмму\n",
    "plt.show()"
   ]
  },
  {
   "cell_type": "markdown",
   "id": "3ab7ef4f",
   "metadata": {},
   "source": [
    "### Вывод: объединение данных"
   ]
  },
  {
   "cell_type": "markdown",
   "id": "9bc6394d",
   "metadata": {},
   "source": [
    "**Расстояние поездок:**\n",
    "\n",
    "Для пользователей без подписки среднее расстояние поездки составляет около 3018 м. с стандартным отклонением 1223 м. Большинство поездок находится в промежутке, примерно, от 1800 м. до 4200 м.\n",
    "\n",
    "Для пользователей с подпиской среднее расстояние поездки составляет около 3109 м. со стандартным отклонением 834 м. Большинство поездок находится в промежутке, примерно, от 2300 м. до 3900 м. Пользователи с подпиской более концентрированы вокруг среднего значения, в отличие от пользователей без подписки, у которых расстояния варьируются шире.\n",
    "\n",
    "\n",
    "**Время поездок:**\n",
    "\n",
    "Для пользователей без подписки среднее время поездки составляет около 17.5 мин. с стандартным отклонением 6.15 мин. Большинство поездок для этих пользователей длится, примерно, от 11 до 24 мин.\n",
    "\n",
    "Для пользователей с подпиской среднее время поездки составляет около 18.4 мин. со стандартным отклонением 5.45 мин. Таким образом, большинство поездок для этих пользователей длится, примерно, от 13 до 24 минут. Пользователи с подпиской более концентрированы вокруг среднего значения, в отличие от пользователей без подписки, у которых время варьируются шире.\n",
    "\n",
    "**Выводы:** Подписчики сервиса 'GoFast' в среднем делают более длинные поездки как по времени, так и по расстоянию, чем пользователи без подписки. Однако, их поездки обычно более стабильны и предсказуемы, в то время как у пользователей без подписки больший разброс по параметрам. Это может быть связано с тем, что подписчики чаще используют сервис и имеют более устоявшиеся маршруты."
   ]
  },
  {
   "cell_type": "markdown",
   "id": "e05bec19",
   "metadata": {},
   "source": [
    "## Этап 5. Подсчёт выручки"
   ]
  },
  {
   "cell_type": "markdown",
   "id": "6a1b4145",
   "metadata": {},
   "source": [
    "### Создадим датафрейм с агрегированными данными о поездках на основе датафрейма с объединёнными данными. Найдем суммарное расстояние, количество поездок и суммарное время для каждого пользователя за каждый месяц."
   ]
  },
  {
   "cell_type": "markdown",
   "id": "50cde919",
   "metadata": {},
   "source": [
    "Создадим новый датафейм agriagte_data, куда положим агрегированные данные о поездках, а именно:\n",
    "\n",
    "суммарное расстояние,\n",
    "количество поездок,\n",
    "суммарное время\n",
    "для каждого пользователя за каждый месяц."
   ]
  },
  {
   "cell_type": "code",
   "execution_count": 61,
   "id": "628a79d3",
   "metadata": {
    "scrolled": true
   },
   "outputs": [],
   "source": [
    "df_combined.head()"
   ]
  },
  {
   "cell_type": "code",
   "execution_count": 62,
   "id": "243a8198",
   "metadata": {},
   "outputs": [],
   "source": [
    "# Создание сводной таблицы\n",
    "agrigate_data = df_combined.pivot_table(index = ['user_id', 'month_date', 'subscription_type'], \n",
    "                              values = ['distance', 'duration'], \n",
    "                              aggfunc = {'distance':'sum','duration':'sum','user_id':'count'})\n",
    "\n",
    "# Переименование колонок\n",
    "agrigate_data = agrigate_data.rename(columns = {'distance':'distance','duration':'duration', 'user_id':'times'})\n",
    "# Округление продолжительности\n",
    "agrigate_data['duration'] = np.ceil(agrigate_data['duration']) \n",
    "# Сброс индексов\n",
    "agrigate_data = agrigate_data.reset_index()\n",
    "agrigate_data"
   ]
  },
  {
   "cell_type": "markdown",
   "id": "e0f267c3",
   "metadata": {},
   "source": [
    "В этот же датафрейм добавим столбец с помесячной выручкой, которую принёс каждый пользователь. Для этого обратимся к информации об условиях оплаты для подписчиков и тех, у кого нет подписки. Продолжительность каждой поездки в каждой строке исходного датафрейма для подсчёта стоимости округляется до следующего целого числа: например, значения \n",
    "25.3, 25.5 и 26.0 должны быть преобразованы к 26."
   ]
  },
  {
   "cell_type": "code",
   "execution_count": 63,
   "id": "4d6bb8f9",
   "metadata": {},
   "outputs": [],
   "source": [
    "def payment_func(subscription_type, duration, times, month_date):\n",
    "    result = 0\n",
    "    if subscription_type == 'free':\n",
    "        pay_for_start = 50\n",
    "        pay_of_one_minute=8\n",
    "        result = pay_for_start * times + pay_of_one_minute * duration\n",
    "    else:\n",
    "        pay_of_one_minute=6\n",
    "        pay_subscription = 199\n",
    "        result = pay_subscription + pay_of_one_minute * duration\n",
    "    return result\n",
    "agrigate_data['payment'] = agrigate_data.apply(lambda row: payment_func(row['subscription_type'], row['duration'], row['times'], row['month_date']), axis=1)\n",
    "agrigate_data.head(20)"
   ]
  },
  {
   "cell_type": "code",
   "execution_count": 64,
   "id": "2fcd406c",
   "metadata": {},
   "outputs": [],
   "source": [
    "total_amount = agrigate_data['payment'].sum()\n",
    "print(f'Общая сумма выручки составляет: {total_amount} руб.')"
   ]
  },
  {
   "cell_type": "code",
   "execution_count": 65,
   "id": "9a3b7239",
   "metadata": {},
   "outputs": [],
   "source": [
    "# Общая сумма выручки бесплатной подписки\n",
    "total_amount_free = agrigate_data.loc[agrigate_data['subscription_type'] == 'free']['payment'].sum()\n",
    "# Общая сумма выручки платной подписки\n",
    "total_amount_ultra = agrigate_data.loc[agrigate_data['subscription_type'] == 'ultra']['payment'].sum()\n",
    "print(f'Общая сумма выручки бесплатной подписки составляет: {total_amount_free} руб.')\n",
    "print(f'Общая сумма выручки платной подписки составляет: {total_amount_ultra} руб.')"
   ]
  },
  {
   "cell_type": "markdown",
   "id": "06a7e63c",
   "metadata": {},
   "source": [
    "### Вывод: подсчёт выручки"
   ]
  },
  {
   "cell_type": "markdown",
   "id": "75ff08b6",
   "metadata": {},
   "source": [
    "На данном этапе мы с агрегировали данные в единый датафрейм (agrigate_data), где нашли суммарное пройденное расстояние, количество поездок и суммарное время для каждого пользователя за каждый месяц.\n",
    "\n",
    "Далее мы посчитали помесячную выручку, которую принёс каждый пользователь.\n",
    "Столбец с помесячной выручкой (payment) учитывет стоимость старта поездки, стоимость времени поездки и подписочную плату.\n",
    "Добавление столбца с помесячной выручкой позволило нам расчитать:\n",
    "\n",
    "Общую сумму выручки бесплатной подписки, которая составляет: 2200714.0 руб.\n",
    "\n",
    "Общая сумма выручки платной подписки, которая составляет: 1629830.0 руб.\n",
    "\n",
    "Общая сумма выручки составляет: 3830544.0 руб.\n"
   ]
  },
  {
   "cell_type": "markdown",
   "id": "6a882333",
   "metadata": {},
   "source": [
    "## Этап 6. Проверка гипотез"
   ]
  },
  {
   "cell_type": "markdown",
   "id": "50b53f3c",
   "metadata": {},
   "source": [
    "### Гипотеза №1. Пользователи с подпиской тратят в среднем больше времени на поездки, чем пользователи без подписки."
   ]
  },
  {
   "cell_type": "markdown",
   "id": "715fc16b",
   "metadata": {},
   "source": [
    "Нам даны две генераные совокупности, длительность поездок пользователей с подпиской и без (df_combined_with_subscriptions['duration'], df_combined_without_subscriptions['duration']). \n",
    "\n",
    "Число наблюдений в генеральной совокупности пользователи с подпиской равна: df_combined_with_subscriptions['duration'] = 6472\n",
    "\n",
    "\n",
    "Число наблюдений в генеральной совокупности пользователи без подпиской равна: df_combined_without_subscriptions['duration'] = 11437\n"
   ]
  },
  {
   "cell_type": "markdown",
   "id": "270192b7",
   "metadata": {},
   "source": [
    "**Цель:** Важно понять, тратят ли пользователи с подпиской больше времени на поездки? Если да, то пользователи с подпиской могут быть «выгоднее» для компании."
   ]
  },
  {
   "cell_type": "markdown",
   "id": "9327f577",
   "metadata": {},
   "source": [
    "**H0 (нулевая гипотеза):** Среднее время поездок пользователей с подпиской не отличается от времени поездок пользователей без подписки.\n",
    "\n",
    "**H1 (альтернативная гипотеза):** Среднее время поездок пользователей с подпиской больше, чем у пользователей без подписки."
   ]
  },
  {
   "cell_type": "markdown",
   "id": "ddbd3632",
   "metadata": {},
   "source": [
    "**Уровень значимости (alpha):** Уровень значимости устанавливается на уровне 0.05."
   ]
  },
  {
   "cell_type": "markdown",
   "id": "378ee529",
   "metadata": {},
   "source": [
    "**Метод проверки гипотезы:** Односторонний t-тест для независимых выборок. Этот тест подходит, так как сравниваются два набора данных, которые являются независимыми."
   ]
  },
  {
   "cell_type": "markdown",
   "id": "36478fc1",
   "metadata": {},
   "source": [
    "**Условия проведения t-теста:**\n",
    "\n",
    "• Генеральные совокупности не зависят друг от друга - удовлетворяет.\n",
    "    \n",
    "• Выборочные средние нормально распределены - удовлетворяет (согласно ЦПТ, выборочные средние нормально распределены, так как размер выборок достаточно большой)\n",
    "    \n",
    "• Дисперсии рассматриваемых генеральных совокупностей равны - удовлетворяет"
   ]
  },
  {
   "cell_type": "code",
   "execution_count": 66,
   "id": "3f7d4c78",
   "metadata": {},
   "outputs": [],
   "source": [
    "# Длительности поездок пользователей с подпиской и без\n",
    "duration_with_subscription = df_combined_with_subscriptions['duration']\n",
    "duration_without_subscription = df_combined_without_subscriptions['duration']\n",
    "\n",
    "# Проведение t-теста\n",
    "t_stat, p_value = stats.ttest_ind(duration_with_subscription, duration_without_subscription, alternative='greater')\n",
    "\n",
    "# Вывод результатов\n",
    "print(f\"T-статистика: {t_stat}\")\n",
    "print(f\"P-значение: {p_value}\")\n",
    "\n",
    "# Сравнение p-значения с уровнем значимости alpha\n",
    "alpha = 0.05\n",
    "if p_value < alpha:\n",
    "    print(\"Мы отвергаем нулевую гипотезу. Пользователи с подпиской тратят больше времени на поездки.\")\n",
    "else:\n",
    "    print(\"Мы не можем отвергнуть нулевую гипотезу. Пользователи с подпиской не тратят больше времени на поездки.\")"
   ]
  },
  {
   "cell_type": "markdown",
   "id": "2e09a67a",
   "metadata": {},
   "source": [
    "**Интерпретация результатов:**\n",
    "\n",
    "• T-статистика показывает, насколько сильно отличаются средние значения двух групп.\n",
    "    \n",
    "• P-значение — это вероятность того, что мы получили такой результат случайно, при условии, что нулевая гипотеза верна. Если p-значение меньше 0.05, то различие между средними значениями считается статистически значимым.\n",
    "\n",
    "На основании результатов t-теста, можно сделать вывод о том, выгоднее пользователи с подпиской для компании."
   ]
  },
  {
   "cell_type": "markdown",
   "id": "c2ccf501",
   "metadata": {},
   "source": [
    "###  Гипотеза №2. Пользователи в среднее проезжают расстояние меньше 3130 метров."
   ]
  },
  {
   "cell_type": "markdown",
   "id": "b6e18ca9",
   "metadata": {},
   "source": [
    "Нам дана одна генеральная совокупность, расстояние, которое пользователи с подпиской проезжают за одну поездку (df_combined_with_subscriptions['distance']). \n",
    "\n",
    "Число наблюдений в генеральной совокупности равна: df_combined_with_subscriptions['distance'] = 6472."
   ]
  },
  {
   "cell_type": "markdown",
   "id": "f5df70c1",
   "metadata": {},
   "source": [
    "**Цель:** Важно понять, проезжают ли пользователи с подпиской в среднем меньше 3130 метров. Это расстояние является оптимальным с точки зрения износа самоката? Если да, то пользователи с подпиской не вносят дополнительные затраты связанные с ускоренным износом самокатов."
   ]
  },
  {
   "cell_type": "markdown",
   "id": "4f76c1af",
   "metadata": {},
   "source": [
    "**Нулевая гипотеза (H0):** Среднее расстояние, которое проезжают пользователи с подпиской за одну поездку, не превышает 3130 метров (то есть среднее расстояние ≤ 3130)."
   ]
  },
  {
   "cell_type": "markdown",
   "id": "aad8cdec",
   "metadata": {},
   "source": [
    "**Альтернативная гипотеза (H1):** Среднее расстояние, которое проезжают пользователи с подпиской за одну поездку, превышает 3130 метров (то есть среднее расстояние > 3130)."
   ]
  },
  {
   "cell_type": "markdown",
   "id": "29e0f19c",
   "metadata": {},
   "source": [
    "**Уровень значимости (alpha):** Уровень значимости устанавливается на уровне 0.05."
   ]
  },
  {
   "cell_type": "markdown",
   "id": "0fdba65a",
   "metadata": {},
   "source": [
    "**Метод проверки гипотезы:** Односторонний t-тест для одной выборки."
   ]
  },
  {
   "cell_type": "code",
   "execution_count": 67,
   "id": "f8ed59e2",
   "metadata": {},
   "outputs": [],
   "source": [
    "# Данные: расстояние поездок для пользователей с подпиской\n",
    "distance_with_subscription = df_combined_with_subscriptions['distance']\n",
    "\n",
    "# Задаем среднее расстояние, с которым сравниваем\n",
    "mean_distance = 3130\n",
    "\n",
    "# Проведение одностороннего t-теста\n",
    "t_stat, p_value = stats.ttest_1samp(distance_with_subscription, mean_distance, alternative='greater')\n",
    "\n",
    "# Вывод результатов\n",
    "print(f\"T-статистика: {t_stat}\")\n",
    "print(f\"P-значение: {p_value}\")\n",
    "\n",
    "# Сравнение p-значения с уровнем значимости alpha\n",
    "alpha = 0.05\n",
    "if p_value < alpha:\n",
    "    print(\"Мы отвергаем нулевую гипотезу. Среднее расстояние превышает 3130 метров.\")\n",
    "else:\n",
    "    print(\"Мы не можем отвергнуть нулевую гипотезу. Среднее расстояние не превышает 3130 метров.\")"
   ]
  },
  {
   "cell_type": "markdown",
   "id": "ea7091e2",
   "metadata": {},
   "source": [
    "**Интерпретация результатов:**\n",
    "\n",
    "• T-статистика показывает отклонение выборочного среднего от заданного значения (3130 метров).\n",
    "    \n",
    "• P-значение — это вероятность того, что такое или большее отклонение могло произойти случайно, при условии, что нулевая гипотеза верна. Если p-значение меньше 0.05, то мы отвергаем нулевую гипотезу.\n"
   ]
  },
  {
   "cell_type": "markdown",
   "id": "afbeddd8",
   "metadata": {},
   "source": [
    "**Вывод:**\n",
    "\n",
    "T-статистика составила -1.93, а p-значение равна 0.973. Учитывая уровень значимости alpha = 0.05, у нас нет оснований (нет достаточных данных) отвергать нулевую гипотезу о том, что среднее расстояние, пройденное пользователями с подпиской за одну поездку, равно 3130 метров.\n",
    "\n",
    "Таким образом, на основе проведенного теста **мы не можем утверждать, что пользователи за одну поездку в среднее проезжают расстояние меньше 3130 метров.**"
   ]
  },
  {
   "cell_type": "markdown",
   "id": "98148a87",
   "metadata": {},
   "source": [
    "### Гипотеза №3. Помесячная выручка от пользователей с подпиской по месяцам выше, чем выручка от пользователей без подписки."
   ]
  },
  {
   "cell_type": "markdown",
   "id": "14103c2a",
   "metadata": {},
   "source": [
    "Нам даны две генеральные совокупности, помесячная выручка от пользователей с подпиской и без (df_aggregated.query('subscription_type == \"ultra\"')['income'], df_aggregated.query('subscription_type == \"free\"')['income']). Число наблюдений в генеральной совокупности пользователи с подпиской равна 4533 и оно меньше приблизительно в полтора раза, чем число наблюдений в генеральной совокупности пользователи без подписки (6767 наблюдений)."
   ]
  },
  {
   "cell_type": "markdown",
   "id": "ace4c430",
   "metadata": {},
   "source": [
    "**Цель:** Важно понять, помесячная выручка от пользователей с подпиской по месяцам выше, чем выручка от пользователей без подписки? Если да, то пользователи с подпиской могут быть «выгоднее» для компании."
   ]
  },
  {
   "cell_type": "markdown",
   "id": "a93257b4",
   "metadata": {},
   "source": [
    "**Нулевая гипотеза (H0):** Помесячная выручка от пользователей с подпиской не выше, чем от пользователей без подписки (то есть средняя выручка от пользователей с подпиской ≤ средней выручки от пользователей без подписки)."
   ]
  },
  {
   "cell_type": "markdown",
   "id": "7b0ae724",
   "metadata": {},
   "source": [
    "**Альтернативная гипотеза (H1):** Помесячная выручка от пользователей с подпиской выше, чем от пользователей без подписки (то есть средняя выручка от пользователей с подпиской > средней выручки от пользователей без подписки)."
   ]
  },
  {
   "cell_type": "markdown",
   "id": "43a39be3",
   "metadata": {},
   "source": [
    "**Уровень значимости (alpha):** Уровень значимости устанавливается на уровне 0.05."
   ]
  },
  {
   "cell_type": "markdown",
   "id": "154ecc93",
   "metadata": {},
   "source": [
    "**Метод проверки гипотезы:** Односторонний t-тест для двух независимых выборок."
   ]
  },
  {
   "cell_type": "code",
   "execution_count": 68,
   "id": "dcf217b0",
   "metadata": {},
   "outputs": [],
   "source": [
    "# Выделение данных по выручке для каждой группы пользователей\n",
    "revenue_with_subscription = agrigate_data.query('subscription_type == \"ultra\"')['payment']\n",
    "revenue_without_subscription = agrigate_data.query('subscription_type == \"free\"')['payment']\n",
    "\n",
    "# Проведение одностороннего t-теста для независимых выборок\n",
    "t_stat, p_value = stats.ttest_ind(revenue_with_subscription, revenue_without_subscription, alternative='greater')\n",
    "\n",
    "# Вывод результатов\n",
    "print(f\"T-статистика: {t_stat}\")\n",
    "print(f\"P-значение: {p_value}\")\n",
    "\n",
    "# Сравнение p-значения с уровнем значимости alpha\n",
    "alpha = 0.05\n",
    "if p_value < alpha:\n",
    "    print(\"Мы отвергаем нулевую гипотезу. Выручка от пользователей с подпиской выше.\")\n",
    "else:\n",
    "    print(\"Мы не можем отвергнуть нулевую гипотезу. Выручка от пользователей с подпиской не выше.\")\n"
   ]
  },
  {
   "cell_type": "markdown",
   "id": "d374e765",
   "metadata": {},
   "source": [
    "**Интерпретация результатов:**\n",
    "\n",
    "• T-статистика показывает степень отклонения разницы средних от нуля.\n",
    "    \n",
    "• P-значение — вероятность того, что разница в выручке могла возникнуть случайно. Если p-значение меньше 0.05, это говорит о том, что разница статистически значима."
   ]
  },
  {
   "cell_type": "markdown",
   "id": "5ccf76be",
   "metadata": {},
   "source": [
    "**Вывод:**\n",
    "\n",
    "Заключение по результатам t-теста:\n",
    "\n",
    "Полученные результаты t-теста свидетельствуют о статистической значимости различий между помесячной выручки от пользователей с подпиской и без подписки.\n",
    "\n",
    "T-статистика составила 12.14 (в общем случае, чем больше значение T-статистики, тем более вероятно, что различия между выборками не случайны), а p-значение оказалось весьма малым (порядка 4.88e-34). Учитывая уровень значимости alpha = 0.05, мы отвергаем нулевую гипотезу о том, что средние значения помесячной выручки для обеих групп пользователей одинаковы.\n",
    "\n",
    "Таким образом, у нас есть статистические доказательства того, что помесячная выручка от пользователей с подпиской в среднем выше, чем от пользователей без подписки. Это подтверждает исходную гипотезу."
   ]
  },
  {
   "cell_type": "markdown",
   "id": "8c390736",
   "metadata": {},
   "source": [
    "### Гипотеза №4. Количество обращений в техподдержку значимо снизилось после технического обновления на стороне сервера приложения"
   ]
  },
  {
   "cell_type": "markdown",
   "id": "2bacfcb1",
   "metadata": {},
   "source": [
    "**Условие задачи:** Представьте такую ситуацию: техническая команда сервиса обновила сервера, с которыми взаимодействует мобильное приложение. Она надеется, что из-за этого количество обращений в техподдержку значимо снизилось. Некоторый файл содержит для каждого пользователя данные о количестве обращений до обновления и после него. Какой тест вам понадобился бы для проверки этой гипотезы?\n",
    "\n",
    "Нам дана одна генеральная совокупность, которая состоит из двух для зависимых (парных) выборок (количество обращений в техподдержку до технического обновления сервера приложения и после обновления). Число наблюдений для зависимых (парных) выборок одинаково."
   ]
  },
  {
   "cell_type": "markdown",
   "id": "e1661596",
   "metadata": {},
   "source": [
    "**Цель:** Важно понять, снизиться ли количество обращений в техподдержку после технического обновления на стороне сервера приложения."
   ]
  },
  {
   "cell_type": "markdown",
   "id": "d21e9637",
   "metadata": {},
   "source": [
    "**Нулевая гипотеза (H0):** Средние значения количества обращений до и после обновления серверов равны."
   ]
  },
  {
   "cell_type": "markdown",
   "id": "9c90bc55",
   "metadata": {},
   "source": [
    "**Альтернативная гипотеза (H1):** Среднее количество обращений после обновления серверов меньше, чем до обновления."
   ]
  },
  {
   "cell_type": "markdown",
   "id": "9aec1915",
   "metadata": {},
   "source": [
    "**Уровень значимости (alpha):** Уровень значимости устанавливается на уровне 0.05."
   ]
  },
  {
   "cell_type": "markdown",
   "id": "0f1fba6f",
   "metadata": {},
   "source": [
    "**Метод проверки гипотезы:** парный t-тест, так как у нас есть два связанных набора данных, количество обращений до и после обновления для каждого пользователя."
   ]
  },
  {
   "cell_type": "markdown",
   "id": "8f444bc7",
   "metadata": {},
   "source": [
    "**Критерий оценки:** Если p-значение, полученное в результате t-теста, будет меньше уровня значимости (alpha), то нулевая гипотеза будет отвергнута в пользу альтернативной, и мы сможем утверждать, что есть статистически значимое различие в количестве обращений до и после обращения."
   ]
  },
  {
   "cell_type": "markdown",
   "id": "12f6ee0b",
   "metadata": {},
   "source": [
    "Для проведения парного t-теста используем метода для сравнения средних значений двух связанных выборок ttest_rel из библиотеки scipy.stats, при этом передадим этому методу два параметра: выброку до проведения обновления и после. Вот пример кода для проведения теста stats.ttest_rel(before, after)"
   ]
  },
  {
   "cell_type": "markdown",
   "id": "75fb08eb",
   "metadata": {},
   "source": [
    "**ВЫВОД:** Для проверки гипотезы о том,что количество обращений в техподдержку значимо снизилось после технического обновления на стороне сервера приложения необходимо использовать **тест на равенство средних для зависимых выборок, до и после изменений (t-тест для зависимых выборок stats.ttest_rel())**"
   ]
  },
  {
   "cell_type": "markdown",
   "id": "98dd8140",
   "metadata": {},
   "source": [
    "### Вывод: Проверка гипотез"
   ]
  },
  {
   "cell_type": "markdown",
   "id": "bd72018d",
   "metadata": {},
   "source": [
    "**Гипотеза №1**\n",
    "Пользователи с подпиской тратят больше времени на поездки.\n",
    "\n",
    "\n",
    "**Гипотеза №2**\n",
    "Пользователи за одну поездку в среднем проезжают расстояние меньше 3130 метров.\n",
    "\n",
    "\n",
    "**Гипотеза №3**\n",
    "Помесячная выручка от пользователей с подпиской в среднем выше, чем от пользователей без подписки.\n",
    "\n",
    "**Гипотеза №4**\n",
    "Количество обращений в техподдержку значимо снизилось после технического обновления на стороне сервера приложения.\n",
    "\n",
    "**Итог:** Учет результатов проведенных тестов позволяет сделать вывод о том, что пользователи с подпиской более активны, тратят больше времени на поездки, приносят больше выручки. "
   ]
  },
  {
   "cell_type": "markdown",
   "id": "89007c97",
   "metadata": {},
   "source": [
    "## Общий Вывод"
   ]
  },
  {
   "cell_type": "markdown",
   "id": "c31ed0fa",
   "metadata": {},
   "source": [
    "**1. Загрузка и первичный обзор данных:**\n",
    "\n",
    "Типы данных в датасетах df_users_go, df_rides_go, и df_subscriptions_go успешно определены.\n",
    "Уникальный идентификатор пользователя user_id общий для данных о пользователях и поездках, что упрощает объединение датасетов.\n",
    "Пропущенных значений в данных не обнаружено.\n",
    "Данные о подписках содержат два типа: \"free\" и \"ultra\".\n",
    "\n",
    "**2. Предобработка данных:**\n",
    "\n",
    "Выявили в датафрейме пропущенные значения и заполнили их там где это представляется возможным, не исказив данные. Исправили типы данных на подходящие. Обработали аномальные значения. Обработали дубликаты. Итого было отброшено не более 5% мусорных данных.\n",
    "\n",
    "**3. Исследовательский анализ данных:**\n",
    "\n",
    "Выявили, что больше всего клиентов зарегестрированно в городе Пятигорск, а меньше всего в Москве. Соотношении пользователей с подпиской и без подписки близкое. Пользователей без подписки (free) - 54.43%. Пользователей с подпиской (ultra) - 45.57%. Согласно полученных данных видим, что основная категория клиенотов это группа людей в возрасте от 18 до 35 лет включительно (Молодость), составляет 94%. Группа людей в возрасте до 17 лет включительно (школьники), составляет 5.15%. Группа людей в возрасте от 36 до 60 лет включительно (зрелые), составляет всего-лишь 0.85%. Пользователи в среднем преодолевают расстояние около 35623 метров, с разбросом данных от 5530 до 79325 метров.\n",
    "\n",
    "**4. Объединение данных:**\n",
    "\n",
    "Подписчики сервиса 'GoFast' в среднем делают более длинные поездки как по времени, так и по расстоянию, чем пользователи без подписки. Однако, их поездки обычно более стабильны и предсказуемы, в то время как у пользователей без подписки больший разброс по параметрам. Это может быть связано с тем, что подписчики чаще используют сервис и имеют более устоявшиеся маршруты.\n",
    "\n",
    "**5. Подсчёт выручки:**\n",
    "\n",
    "Мы с агрегировали данные в единый датафрейм (agrigate_data), где нашли суммарное пройденное расстояние, количество поездок и суммарное время для каждого пользователя за каждый месяц.\n",
    "\n",
    "Далее мы посчитали помесячную выручку, которую принёс каждый пользователь.\n",
    "Столбец с помесячной выручкой (payment) учитывет стоимость старта поездки, стоимость времени поездки и подписочную плату.\n",
    "Добавление столбца с помесячной выручкой позволило нам расчитать:\n",
    "\n",
    "Общую сумму выручки бесплатной подписки, которая составляет: 2200714.0 руб.\n",
    "\n",
    "Общая сумма выручки платной подписки, которая составляет: 1629830.0 руб.\n",
    "\n",
    "Общая сумма выручки составляет: 3830544.0 руб.\n",
    "\n",
    "\n",
    "**6. Проверка гипотез:**\n",
    "\n",
    "Гипотеза №1: Подтверждена. Пользователи с подпиской тратят в среднем больше времени на поездки, что является положительным для компании.\n",
    "\n",
    "Гипотеза №2: Результаты одновыборочного t-теста не позволяют отвергнуть нулевую гипотезу, но с уровнем значимости 0.05 можно утверждать, что среднее расстояние пользователей с подпиской равно 3130 метров.\n",
    "\n",
    "Гипотеза №3: Подтверждена. Помесячная выручка от пользователей с подпиской в среднем выше, что делает эту группу более выгодной для компании.\n",
    "\n",
    "Гипотеза №4: Для проверки снижения обращений в техподдержку после обновления сервера должен использовался t-тест для зависимых выборок (st.ttest_rel()).\n",
    "\n",
    "**Итог:**\n",
    "\n",
    "Пользователи с подпиской более активны и приносят больше выручки.\n",
    "Стратегия привлечения пользователей с подпиской может быть успешной."
   ]
  }
 ],
 "metadata": {
  "kernelspec": {
   "display_name": "Python 3 (ipykernel)",
   "language": "python",
   "name": "python3"
  },
  "language_info": {
   "codemirror_mode": {
    "name": "ipython",
    "version": 3
   },
   "file_extension": ".py",
   "mimetype": "text/x-python",
   "name": "python",
   "nbconvert_exporter": "python",
   "pygments_lexer": "ipython3",
   "version": "3.11.3"
  }
 },
 "nbformat": 4,
 "nbformat_minor": 5
}
